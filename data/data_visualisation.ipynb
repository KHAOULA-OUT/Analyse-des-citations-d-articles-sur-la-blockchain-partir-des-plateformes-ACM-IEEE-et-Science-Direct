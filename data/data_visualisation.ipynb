{
 "cells": [
  {
   "cell_type": "code",
   "execution_count": 3,
   "id": "8e0b622d",
   "metadata": {},
   "outputs": [],
   "source": [
    "import pandas as pd"
   ]
  },
  {
   "cell_type": "code",
   "execution_count": null,
   "id": "90d9edc9",
   "metadata": {},
   "outputs": [],
   "source": []
  },
  {
   "cell_type": "code",
   "execution_count": 4,
   "id": "440b42c3",
   "metadata": {},
   "outputs": [
    {
     "data": {
      "text/html": [
       "<div>\n",
       "<style scoped>\n",
       "    .dataframe tbody tr th:only-of-type {\n",
       "        vertical-align: middle;\n",
       "    }\n",
       "\n",
       "    .dataframe tbody tr th {\n",
       "        vertical-align: top;\n",
       "    }\n",
       "\n",
       "    .dataframe thead th {\n",
       "        text-align: right;\n",
       "    }\n",
       "</style>\n",
       "<table border=\"1\" class=\"dataframe\">\n",
       "  <thead>\n",
       "    <tr style=\"text-align: right;\">\n",
       "      <th></th>\n",
       "      <th>Unnamed: 0</th>\n",
       "      <th>Document Title</th>\n",
       "      <th>Authors</th>\n",
       "      <th>Universities</th>\n",
       "      <th>Citations</th>\n",
       "      <th>Affiliations</th>\n",
       "      <th>Publisher</th>\n",
       "      <th>DOI</th>\n",
       "      <th>Publication Year</th>\n",
       "    </tr>\n",
       "  </thead>\n",
       "  <tbody>\n",
       "    <tr>\n",
       "      <th>0</th>\n",
       "      <td>1</td>\n",
       "      <td>Blockchain adoption and channel selection stra...</td>\n",
       "      <td>['Bengang Gong', 'Huaimiao Zhang', 'Yiling Gao...</td>\n",
       "      <td>['Anhui Polytechnic University No8 Beijing Zho...</td>\n",
       "      <td>0.0</td>\n",
       "      <td>China</td>\n",
       "      <td>Science direct</td>\n",
       "      <td>https://www.sciencedirect.com/science/article/...</td>\n",
       "      <td>2022</td>\n",
       "    </tr>\n",
       "    <tr>\n",
       "      <th>1</th>\n",
       "      <td>2</td>\n",
       "      <td>A systematic literature review on blockchain g...</td>\n",
       "      <td>['Yue Liu', 'Qinghua Lu', 'Liming Zhu', 'Hye-Y...</td>\n",
       "      <td>['University of New South Wales']</td>\n",
       "      <td>0.0</td>\n",
       "      <td>Australia</td>\n",
       "      <td>Science direct</td>\n",
       "      <td>https://www.sciencedirect.com/science/article/...</td>\n",
       "      <td>2023</td>\n",
       "    </tr>\n",
       "    <tr>\n",
       "      <th>2</th>\n",
       "      <td>3</td>\n",
       "      <td>Accounting and auditing with blockchain techno...</td>\n",
       "      <td>['Hongdan Han', 'Radha K. Shiwakoti', 'Robin J...</td>\n",
       "      <td>['Brunel University London']</td>\n",
       "      <td>0.0</td>\n",
       "      <td>United Kingdom</td>\n",
       "      <td>Science direct</td>\n",
       "      <td>https://www.sciencedirect.com/science/article/...</td>\n",
       "      <td>2023</td>\n",
       "    </tr>\n",
       "    <tr>\n",
       "      <th>3</th>\n",
       "      <td>4</td>\n",
       "      <td>A survey of blockchain consensus safety and se...</td>\n",
       "      <td>['Qihao Bao', 'Bixin Li', 'Tianyuan Hu', 'Xuey...</td>\n",
       "      <td>['Southeast University']</td>\n",
       "      <td>0.0</td>\n",
       "      <td>China</td>\n",
       "      <td>Science direct</td>\n",
       "      <td>https://www.sciencedirect.com/science/article/...</td>\n",
       "      <td>2023</td>\n",
       "    </tr>\n",
       "    <tr>\n",
       "      <th>4</th>\n",
       "      <td>5</td>\n",
       "      <td>Secure Intelligent Fuzzy Blockchain Framework:...</td>\n",
       "      <td>['Abbas Yazdinejad', 'Ali Dehghantanha', 'Reza...</td>\n",
       "      <td>['University of Guelph', 'Kennesaw State Unive...</td>\n",
       "      <td>0.0</td>\n",
       "      <td>Canada</td>\n",
       "      <td>Science direct</td>\n",
       "      <td>https://www.sciencedirect.com/science/article/...</td>\n",
       "      <td>2023</td>\n",
       "    </tr>\n",
       "  </tbody>\n",
       "</table>\n",
       "</div>"
      ],
      "text/plain": [
       "   Unnamed: 0                                     Document Title  \\\n",
       "0           1  Blockchain adoption and channel selection stra...   \n",
       "1           2  A systematic literature review on blockchain g...   \n",
       "2           3  Accounting and auditing with blockchain techno...   \n",
       "3           4  A survey of blockchain consensus safety and se...   \n",
       "4           5  Secure Intelligent Fuzzy Blockchain Framework:...   \n",
       "\n",
       "                                             Authors  \\\n",
       "0  ['Bengang Gong', 'Huaimiao Zhang', 'Yiling Gao...   \n",
       "1  ['Yue Liu', 'Qinghua Lu', 'Liming Zhu', 'Hye-Y...   \n",
       "2  ['Hongdan Han', 'Radha K. Shiwakoti', 'Robin J...   \n",
       "3  ['Qihao Bao', 'Bixin Li', 'Tianyuan Hu', 'Xuey...   \n",
       "4  ['Abbas Yazdinejad', 'Ali Dehghantanha', 'Reza...   \n",
       "\n",
       "                                        Universities  Citations  \\\n",
       "0  ['Anhui Polytechnic University No8 Beijing Zho...        0.0   \n",
       "1                  ['University of New South Wales']        0.0   \n",
       "2                       ['Brunel University London']        0.0   \n",
       "3                           ['Southeast University']        0.0   \n",
       "4  ['University of Guelph', 'Kennesaw State Unive...        0.0   \n",
       "\n",
       "     Affiliations       Publisher  \\\n",
       "0           China  Science direct   \n",
       "1       Australia  Science direct   \n",
       "2  United Kingdom  Science direct   \n",
       "3           China  Science direct   \n",
       "4          Canada  Science direct   \n",
       "\n",
       "                                                 DOI  Publication Year  \n",
       "0  https://www.sciencedirect.com/science/article/...              2022  \n",
       "1  https://www.sciencedirect.com/science/article/...              2023  \n",
       "2  https://www.sciencedirect.com/science/article/...              2023  \n",
       "3  https://www.sciencedirect.com/science/article/...              2023  \n",
       "4  https://www.sciencedirect.com/science/article/...              2023  "
      ]
     },
     "execution_count": 4,
     "metadata": {},
     "output_type": "execute_result"
    }
   ],
   "source": [
    "data = pd.read_csv(\"ACM_IEEE_ScDir_Finale_Data.csv\")\n",
    "data.head()"
   ]
  },
  {
   "cell_type": "code",
   "execution_count": 13,
   "id": "e6e761ec",
   "metadata": {},
   "outputs": [
    {
     "data": {
      "text/plain": [
       "'Canada'"
      ]
     },
     "execution_count": 13,
     "metadata": {},
     "output_type": "execute_result"
    }
   ],
   "source": [
    "data[\"Affiliations\"][4]"
   ]
  },
  {
   "cell_type": "code",
   "execution_count": 12,
   "id": "ff54a159",
   "metadata": {},
   "outputs": [
    {
     "data": {
      "text/plain": [
       "\"['University of Guelph', 'Kennesaw State University', 'Brandon University', 'University of Calgary']\""
      ]
     },
     "execution_count": 12,
     "metadata": {},
     "output_type": "execute_result"
    }
   ],
   "source": [
    "data[\"Universities\"][4]"
   ]
  },
  {
   "cell_type": "code",
   "execution_count": null,
   "id": "5cf169f8",
   "metadata": {},
   "outputs": [],
   "source": []
  }
 ],
 "metadata": {
  "kernelspec": {
   "display_name": "Python 3 (ipykernel)",
   "language": "python",
   "name": "python3"
  },
  "language_info": {
   "codemirror_mode": {
    "name": "ipython",
    "version": 3
   },
   "file_extension": ".py",
   "mimetype": "text/x-python",
   "name": "python",
   "nbconvert_exporter": "python",
   "pygments_lexer": "ipython3",
   "version": "3.7.9"
  }
 },
 "nbformat": 4,
 "nbformat_minor": 5
}
